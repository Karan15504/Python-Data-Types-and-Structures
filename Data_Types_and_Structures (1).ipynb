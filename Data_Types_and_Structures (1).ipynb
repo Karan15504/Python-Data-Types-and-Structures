{
  "nbformat": 4,
  "nbformat_minor": 0,
  "metadata": {
    "colab": {
      "provenance": []
    },
    "kernelspec": {
      "name": "python3",
      "display_name": "Python 3"
    },
    "language_info": {
      "name": "python"
    }
  },
  "cells": [
    {
      "cell_type": "markdown",
      "source": [
        "## Data Types and Structures Assignment Questions"
      ],
      "metadata": {
        "id": "icD8DEwkfkXN"
      }
    },
    {
      "cell_type": "markdown",
      "source": [
        "## 1. What are data structures, and why are they important?\n",
        "\n",
        "Data structures are special ways of organizing and storing data in a computer so that it can be accessed and modified efficiently.\n",
        "\n",
        "In Python, common data structures include:\n",
        "- Lists\n",
        "- Tuples\n",
        "- Sets\n",
        "- Dictionaries\n",
        "\n",
        "**Importance of Data Structures:**\n",
        "- They help manage large amounts of data efficiently.\n",
        "- They make it easier to perform operations like searching, sorting, and updating.\n",
        "- Choosing the right data structure improves performance and code readability.\n",
        "- They allow us to write optimized and clean code.\n",
        "---\n",
        "\n",
        "## 2. Explain the difference between mutable and immutable data types with examples\n",
        "\n",
        "**Mutable Data Types** are those that **can be changed** after they are created.  \n",
        "**Immutable Data Types** cannot be changed once created.\n",
        "\n",
        "**Examples:**\n",
        "\n",
        "- Mutable:\n",
        "  - **List**: You can add, remove, or change elements.\n",
        "    - Example: `my_list = [1, 2, 3]` → `my_list[0] = 10`\n",
        "  - **Dictionary**\n",
        "  - **Set**\n",
        "\n",
        "- Immutable:\n",
        "  - **String**: Any change creates a new string.\n",
        "    - Example: `name = \"Karan\"` → `name[0] = \"M\"` ❌ (not allowed)\n",
        "  - **Tuple**\n",
        "  - **Integer**, **Float**\n",
        "\n",
        "---\n",
        "## 3. What are the main differences between lists and tuples in Python?\n",
        "\n",
        "Lists and tuples are both used to store multiple items, but they are not the same.\n",
        "\n",
        "- **Lists are mutable**, so we can add, remove, or change items after creating them.\n",
        "- **Tuples are immutable**, meaning we cannot make changes after they are created.\n",
        "\n",
        "They also look different:\n",
        "- Lists use **square brackets** → `[10, 20, 30]`\n",
        "- Tuples use **round brackets** → `(10, 20, 30)`\n",
        "\n",
        "Tuples are a bit faster in performance and are used when we want to make sure the data doesn't change. Lists are used when we want to work with flexible and editable data.\n",
        "---\n",
        "\n",
        "\n",
        "## 4. Describe how dictionaries store data\n",
        "\n",
        "Python dictionaries store data as key-value pairs. Internally, dictionaries are implemented using hash tables. Each key is passed through a hash function that computes an index into an array where the corresponding value is stored. This approach enables fast lookups, insertions, and deletions in average time complexity *O(1)*.\n",
        "\n",
        "Key points:\n",
        "- **Keys** must be immutable (e.g., strings, numbers, or tuples that contain only immutable elements).\n",
        "- **Values** can be any type.\n",
        "- Collisions are handled internally to maintain efficiency.\n",
        "\n",
        "# Example of a dictionary in Python\n",
        "student_scores = {\n",
        "    \"Alice\": 95,\n",
        "    \"Bob\": 88,\n",
        "    \"Charlie\": 92\n",
        "}\n",
        "\n",
        "# Accessing a value using its key:\n",
        "print(\"Alice's score:\", student_scores[\"Alice\"])\n",
        "\n",
        "\n",
        "---\n",
        "\n",
        "##  5. Why might you use a set instead of a list in Python?\n",
        "\n",
        "\n",
        "A set in Python is an unordered collection of unique elements. You might choose to use a set over a list for several reasons:\n",
        "\n",
        "- **Uniqueness:** Sets automatically eliminate duplicate values.\n",
        "- **Performance:** Membership tests (e.g., checking if an element exists) are faster in sets (average time complexity *O(1)*) compared to lists (which have *O(n)*).\n",
        "- **Set operations:** Sets support mathematical operations like union, intersection, and difference.\n",
        "\n",
        "These features make sets ideal when you need to store a collection of items without duplicates and perform rapid membership testing.\n",
        "\n",
        "# Example of using a set:\n",
        "my_list = [1, 2, 2, 3, 4, 4, 5]\n",
        "my_set = set(my_list)\n",
        "print(\"List:\", my_list)\n",
        "print(\"Set (duplicates removed):\", my_set)\n",
        "\n",
        "# test:\n",
        "print(\"Is 3 in the set?\", 3 in my_set)\n",
        "\n",
        "---\n",
        "## 6. What is a string in Python, and how is it different from a list?\n",
        "\n",
        "A **string** in Python is a sequence of characters enclosed in quotes (single, double, or triple). It is used to represent textual data. The primary differences between a string and a list are:\n",
        "\n",
        "- **Immutability:** Strings are immutable, meaning that once created, they cannot be changed. In contrast, lists are mutable and can be modified after their creation.\n",
        "- **Data types:** A string is specifically a sequence of characters, whereas a list can contain elements of varying data types (e.g., integers, floats, objects).\n",
        "- **Usage:** Strings are best for textual data where immutability can offer performance benefits and predictability, while lists are preferred when you need a collection that can dynamically change.\n",
        "\n",
        "\n",
        "# string vs list:\n",
        "s = \"Hello, World!\"\n",
        "lst = list(s)  # Converting the string into a list of characters\n",
        "\n",
        "print(\"String:\", s)\n",
        "print(\"List of characters:\", lst)\n",
        "\n",
        "# Attempting to change a string (will raise an error if uncommented)\n",
        "# s[0] = \"h\"\n",
        "\n",
        "# Changing a list element works fine:\n",
        "lst[0] = \"h\"\n",
        "print(\"Modified list:\", lst)\n",
        "\n",
        "---\n",
        "## 7. How do tuples ensure data integrity in Python?\n",
        "\n",
        "\n",
        "\n",
        "Tuples are immutable sequences, which means that once a tuple is created its contents cannot be altered. This immutability offers several benefits related to data integrity:\n",
        "- **Prevents accidental modification:** Since you cannot change a tuple, its data remains consistent throughout the program's execution.\n",
        "- **Safe to use as dictionary keys:** Because they are immutable, tuples can be used as keys in dictionaries.\n",
        "- **Predictability:** Immutability leads to fewer side effects, which can reduce bugs especially in larger codebases.\n",
        "\n",
        "---\n",
        "## 8. What is a hash table, and how does it relate to dictionaries in Python?\n",
        "\n",
        "**Answer:**\n",
        "\n",
        "A **hash table** is a data structure that maps keys to values using a hash function to compute an index into an array of buckets. The key elements about hash tables are:\n",
        "- **Efficiency:** They allow fast insertion, deletion, and lookup operations.\n",
        "- **Handling collisions:** When two keys hash to the same index, the hash table uses various techniques (like chaining or open addressing) to store both items.\n",
        "\n",
        "Python dictionaries are built on top of hash tables. They use a hash function to quickly locate the storage slot for any given key, making dictionaries highly efficient for key-based operations.\n",
        "\n",
        "# how hashing  work:\n",
        "def simple_hash(key, table_size):\n",
        "    return hash(key) % table_size\n",
        "\n",
        "table_size = 10\n",
        "print(\"Hash for 'apple':\", simple_hash(\"apple\", table_size))\n",
        "print(\"Hash for 'banana':\", simple_hash(\"banana\", table_size))\n",
        "\n",
        "---\n",
        "\n",
        "## 9.Can lists contain different data types in Python?\n",
        "\n",
        "\n",
        "\n",
        "Yes, Python lists can contain different data types. They are heterogeneous, meaning you can store integers, floats, strings, objects, and even other lists within the same list. This flexibility is one of the strengths of Python lists.\n",
        "\n",
        "# Example of a heterogeneous list:\n",
        "mixed_list = [42, 3.14, \"hello\", [1, 2, 3], {\"key\": \"value\"}]\n",
        "print(\"Heterogeneous list:\", mixed_list)\n",
        "---\n",
        "\n",
        "## 10.Explain why strings are immutable in Python\n",
        "\n",
        "\n",
        "\n",
        "Strings in Python are immutable for several important reasons:\n",
        "- **Consistency and Safety:** Immutability prevents accidental modifications, which can lead to more predictable and bug-free code.\n",
        "- **Hashing:** Since strings are immutable, they can be safely used as keys in dictionaries and elements in sets.\n",
        "- **Optimizations:** Immutability allows Python to perform certain optimizations, such as interning (reusing memory for identical strings) and caching, which can improve performance.\n",
        "\n",
        "\n",
        "\n",
        "# Example showing immutability with strings:\n",
        "s = \"immutable\"\n",
        "print(\"Original string:\", s)\n",
        "\n",
        "# Attempting to modify a string (this is not allowed and would raise an error):\n",
        "# s[0] = \"I\"\n",
        "\n",
        "# Instead, a new string must be created:\n",
        "s_modified = \"I\" + s[1:]\n",
        "print(\"Modified string:\", s_modified)\n",
        "---\n",
        "## 11. What advantages do dictionaries offer over lists for certain tasks?\n",
        "\n",
        "\n",
        "\n",
        "Dictionaries offer several advantages over lists when it comes to certain tasks:\n",
        "\n",
        "- **Fast Data Retrieval:** Dictionaries provide average *O(1)* time complexity for lookups by key, making them much more efficient than lists when you need to search for an element by value.\n",
        "- **Direct Association:** They store data as key-value pairs, which naturally represents mappings, such as names to data, IDs to records, etc.\n",
        "- **Better Organization:** When data relationships are inherently associative, dictionaries can represent the data more clearly and concisely than lists.\n",
        "- **No Duplicate Keys:** Each key in a dictionary is unique, preventing accidental duplicate entries.\n",
        "\n",
        "---\n",
        "## 12.Describe a scenario where using a tuple would be preferable over a list\n",
        "\n",
        "Use a tuple when you want to store a fixed collection of values that shouldn't change. For example, representing **geographic coordinates (latitude, longitude)** or a **date (day, month, year)**.\n",
        "\n",
        "Tuples are **immutable**, which makes them more secure and hashable (so they can be used as dictionary keys or set elements).\n",
        "\n",
        "# Tuple representing coordinates (latitude, longitude)\n",
        "location = (19.0760, 72.8777)\n",
        "print(\"Location:\", location)\n",
        "---\n",
        "## 13.How do sets handle duplicate values in Python?\n",
        "\n",
        "**Answer:**\n",
        "\n",
        "In Python, sets automatically **eliminate duplicate values**. They are designed to store only **unique elements**, meaning if a set is given multiple values that are the same, only one copy is kept.\n",
        "\n",
        "### Why this matters:\n",
        "- Saves memory\n",
        "- Prevents redundancy\n",
        "- Useful in operations like finding unique items\n",
        "\n",
        "### Key Properties of Sets:\n",
        "- Unordered\n",
        "- No duplicates\n",
        "- Supports mathematical operations (union, intersection, etc.)\n",
        "\n",
        "Thus, sets are highly useful when working with datasets that require **uniqueness**, such as email lists, usernames, or tags.\n",
        "---\n",
        "## 14.How does the “in” keyword work differently for lists and dictionaries?\n",
        "\n",
        "\n",
        "\n",
        "The `in` keyword is used to check for membership, but it behaves differently depending on the data structure:\n",
        "\n",
        "### In a list:\n",
        "- Checks if a **value** exists in the list.\n",
        "- Performs a **linear search**, which can be slow for large lists (O(n)).\n",
        "\n",
        "\n",
        "colors = [\"red\", \"green\", \"blue\"]\n",
        "\"green\" in colors  # True\n",
        "\n",
        "\n",
        "---\n",
        "\n",
        "\n",
        "## 15.Can you modify the elements of a tuple? Explain why or why not\n",
        "\n",
        "No, you cannot modify elements of a tuple because **tuples are immutable** in Python. Once a tuple is created, its values **cannot be changed, added to, or removed**.\n",
        "\n",
        "### Why immutability matters:\n",
        "- Ensures data safety and consistency\n",
        "- Tuples can be used as **dictionary keys**\n",
        "- Makes programs more predictable and easier to debug\n",
        "\n",
        "\n",
        "my_tuple = (10, 20, 30)\n",
        "# my_tuple[0] = 100  # ❌ Raises TypeError\n",
        "\n",
        "\n",
        "\n",
        "---\n",
        "\n",
        "\n",
        "## 16. What is a nested dictionary, and give an example of its use case\n",
        "\n",
        "\n",
        "\n",
        "A **nested dictionary** is a dictionary where **one or more values are themselves dictionaries**. This structure is useful for representing complex, hierarchical data.\n",
        "\n",
        "### Use Cases:\n",
        "- Storing student records (ID → personal details)\n",
        "- Representing JSON-like API responses\n",
        "- Modeling data in real-world applications (e.g., cities within countries)\n",
        "\n",
        "### Example:\n",
        "\n",
        "students = {\n",
        "    \"101\": {\"name\": \"Karan\", \"grade\": \"A\", \"age\": 20},\n",
        "    \"102\": {\"name\": \"Riya\", \"grade\": \"B\", \"age\": 19}\n",
        "}\n",
        "print(students[\"101\"][\"name\"])  # Output: Karan\n",
        "\n",
        "\n",
        "\n",
        "\n",
        "---\n",
        "\n",
        "\n",
        "## 17. Describe the time complexity of accessing elements in a dictionary\n",
        "\n",
        "\n",
        "\n",
        "Dictionaries in Python are implemented using **hash tables**, which provide **average time complexity of O(1)** (constant time) for element access using keys.\n",
        "\n",
        "### Why it's fast:\n",
        "- Each key is hashed to a unique memory location.\n",
        "- Lookup does not require iteration (unlike lists).\n",
        "\n",
        "### Worst Case:\n",
        "- In rare cases of **hash collisions**, performance may degrade to O(n), but Python handles this internally to minimize impact.\n",
        "\n",
        "This makes dictionaries an excellent choice for applications where fast data retrieval by key is essential.\n",
        "\n",
        "---\n",
        "## 18. In what situations are lists preferred over dictionaries?\n",
        "\n",
        "\n",
        "\n",
        "Lists are preferred when:\n",
        "- You need to **preserve the order** of elements.\n",
        "- The data is naturally a **sequence** (e.g., a queue, stack, timeline).\n",
        "- You are performing frequent **index-based operations** like slicing or sorting.\n",
        "- You don’t need to associate each item with a unique key.\n",
        "\n",
        "### Example Use Cases:\n",
        "- List of scores\n",
        "- Ordered items in a cart\n",
        "- Looping through numeric indexes\n",
        "\n",
        "In contrast, dictionaries are better when data is **key-value** mapped and **random access by key** is more important than order.\n",
        "\n",
        "---\n",
        "## 19.Why are dictionaries considered unordered, and how does that affect data retrieval?\n",
        "\n",
        "\n",
        "Before Python 3.7, dictionaries were **unordered**, meaning they did not preserve the order in which key-value pairs were added.\n",
        "\n",
        "From Python 3.7 onward, dictionaries **preserve insertion order**, but they are still accessed using **keys**, not positions or indices.\n",
        "\n",
        "### Effects on Retrieval:\n",
        "- You **cannot rely on index positions** like with lists.\n",
        "- Data is accessed by **key**, not by order.\n",
        "- Retrieval is fast (O(1)) but not sequential unless explicitly looped.\n",
        "\n",
        "\n",
        "data = {\"name\": \"Karan\", \"age\": 21}\n",
        "print(data[\"age\"])  # Key-based retrieval\n",
        "\n",
        "\n",
        "##20. Explain the difference between a list and a dictionary in terms of data retrieval.\n",
        "\n",
        "\n",
        "\n",
        "A **list** retrieves data using **index numbers**. Each item in the list is accessed by its position (e.g., index 0 for the first element). Lists are ordered and allow duplicates, making them useful for maintaining sequences of items.\n",
        "\n",
        "A **dictionary**, on the other hand, retrieves data using **unique keys**. Each item is stored as a key-value pair, and access is done via the key. Dictionaries are more efficient when looking up data by a specific identifier (like a student ID or name).\n",
        "\n",
        "### Example:\n",
        "\n",
        "\n",
        "# List example\n",
        "colors = [\"red\", \"blue\", \"green\"]\n",
        "print(colors[1])  # Output: blue\n",
        "\n",
        "# Dictionary example\n",
        "student = {\"name\": \"Karan\", \"age\": 21}\n",
        "print(student[\"name\"])  # Output: Karan\n",
        "\n",
        "\n",
        "\n",
        "\n",
        "\n",
        "\n",
        "\n",
        "\n",
        "\n",
        "\n",
        "\n",
        "\n",
        "\n",
        "\n",
        "\n",
        "\n",
        "\n"
      ],
      "metadata": {
        "id": "J4OI9skDf3rN"
      }
    },
    {
      "cell_type": "markdown",
      "source": [
        "##Practical Questions"
      ],
      "metadata": {
        "id": "rccTJZn-sZPk"
      }
    },
    {
      "cell_type": "code",
      "source": [
        "# Practical 1: Write a code to create a string with your name and print it\n",
        "\n",
        "my_name = \"Karan Bhadoriya\"\n",
        "print(\"My name is:\", my_name)\n"
      ],
      "metadata": {
        "colab": {
          "base_uri": "https://localhost:8080/"
        },
        "id": "2o6Du6XVq42M",
        "outputId": "a9ad74e1-8d5e-44c5-c964-fa650a1e475d"
      },
      "execution_count": null,
      "outputs": [
        {
          "output_type": "stream",
          "name": "stdout",
          "text": [
            "My name is: Karan Bhadoriya\n"
          ]
        }
      ]
    },
    {
      "cell_type": "code",
      "source": [
        "# Practical 2: Write a code to find the length of the string \"Hello World\"\n",
        "\n",
        "text = \"Hello World\"\n",
        "print(len(text))\n"
      ],
      "metadata": {
        "colab": {
          "base_uri": "https://localhost:8080/"
        },
        "id": "lwVIm5Kgspen",
        "outputId": "91ac468b-bf64-4baa-e05f-731f98398178"
      },
      "execution_count": null,
      "outputs": [
        {
          "output_type": "stream",
          "name": "stdout",
          "text": [
            "11\n"
          ]
        }
      ]
    },
    {
      "cell_type": "code",
      "source": [
        "# Practical 3: Write a code to slice the first 3 characters from the string \"Python Programming\"\n",
        "\n",
        "message = \"Python Programming\"\n",
        "print(message[:3])\n"
      ],
      "metadata": {
        "colab": {
          "base_uri": "https://localhost:8080/"
        },
        "id": "KH3Z9riBteS6",
        "outputId": "189e58e7-e178-4aec-d9fe-7ad2c76015bf"
      },
      "execution_count": null,
      "outputs": [
        {
          "output_type": "stream",
          "name": "stdout",
          "text": [
            "Pyt\n"
          ]
        }
      ]
    },
    {
      "cell_type": "code",
      "source": [
        "# Practical 4: Write a code to convert the string \"hello\" to uppercase\n",
        "\n",
        "word = \"hello\"\n",
        "print(word.upper())\n"
      ],
      "metadata": {
        "colab": {
          "base_uri": "https://localhost:8080/"
        },
        "id": "hNlwVZ4Gtngf",
        "outputId": "d7d8868f-8e04-411e-fbad-71b4b33a93c4"
      },
      "execution_count": null,
      "outputs": [
        {
          "output_type": "stream",
          "name": "stdout",
          "text": [
            "HELLO\n"
          ]
        }
      ]
    },
    {
      "cell_type": "code",
      "source": [
        "# Practical 5: Write a code to replace the word \"apple\" with \"orange\" in the string \"I like apple\"\n",
        "\n",
        "sentence = \"I like apple\"\n",
        "print(sentence.replace(\"apple\", \"orange\"))\n"
      ],
      "metadata": {
        "colab": {
          "base_uri": "https://localhost:8080/"
        },
        "id": "iL6aRUDttpik",
        "outputId": "1b38d549-00b7-4686-acc3-7f040fa29aa8"
      },
      "execution_count": null,
      "outputs": [
        {
          "output_type": "stream",
          "name": "stdout",
          "text": [
            "I like orange\n"
          ]
        }
      ]
    },
    {
      "cell_type": "code",
      "source": [
        "# Practical 6: Write a code to create a list with numbers 1 to 5 and print it\n",
        "\n",
        "numbers = [1, 2, 3, 4, 5]\n",
        "print(numbers)\n"
      ],
      "metadata": {
        "colab": {
          "base_uri": "https://localhost:8080/"
        },
        "id": "roQVhbeFtuDv",
        "outputId": "115c81f3-2715-4e85-b458-a28a08029411"
      },
      "execution_count": null,
      "outputs": [
        {
          "output_type": "stream",
          "name": "stdout",
          "text": [
            "[1, 2, 3, 4, 5]\n"
          ]
        }
      ]
    },
    {
      "cell_type": "code",
      "source": [
        "# Practical 7: Write a code to append the number 10 to the list [1, 2, 3, 4]\n",
        "\n",
        "my_list = [1, 2, 3, 4]\n",
        "my_list.append(10)\n",
        "print(my_list)\n"
      ],
      "metadata": {
        "colab": {
          "base_uri": "https://localhost:8080/"
        },
        "id": "2b80pQYVty5j",
        "outputId": "1a8aaae2-92e4-4ca1-8fee-222fc90e31f5"
      },
      "execution_count": null,
      "outputs": [
        {
          "output_type": "stream",
          "name": "stdout",
          "text": [
            "[1, 2, 3, 4, 10]\n"
          ]
        }
      ]
    },
    {
      "cell_type": "code",
      "source": [
        "# Practical 8: Write a code to remove the number 3 from the list [1, 2, 3, 4, 5]\n",
        "\n",
        "num_list = [1, 2, 3, 4, 5]\n",
        "num_list.remove(3)\n",
        "print(num_list)\n"
      ],
      "metadata": {
        "colab": {
          "base_uri": "https://localhost:8080/"
        },
        "id": "Exj7gZ8It5uO",
        "outputId": "b96d30da-4ea3-4828-9f5c-516c35f2a2f8"
      },
      "execution_count": null,
      "outputs": [
        {
          "output_type": "stream",
          "name": "stdout",
          "text": [
            "[1, 2, 4, 5]\n"
          ]
        }
      ]
    },
    {
      "cell_type": "code",
      "source": [
        "# Practical 9: Write a code to access the second element in the list ['a', 'b', 'c', 'd']\n",
        "\n",
        "letters = ['a', 'b', 'c', 'd']\n",
        "print(letters[1])\n"
      ],
      "metadata": {
        "colab": {
          "base_uri": "https://localhost:8080/"
        },
        "id": "b-Zrv_NPuAqN",
        "outputId": "7899c20b-182a-4b40-b3c1-9d9b65c32d44"
      },
      "execution_count": null,
      "outputs": [
        {
          "output_type": "stream",
          "name": "stdout",
          "text": [
            "b\n"
          ]
        }
      ]
    },
    {
      "cell_type": "code",
      "source": [
        "# Practical 10: Write a code to reverse the list [10, 20, 30, 40, 50]\n",
        "\n",
        "data = [10, 20, 30, 40, 50]\n",
        "data.reverse()\n",
        "print(data)\n"
      ],
      "metadata": {
        "colab": {
          "base_uri": "https://localhost:8080/"
        },
        "id": "5Z4mY539uHWa",
        "outputId": "87a5074b-3131-48e4-c3e8-f655c3d2e0cd"
      },
      "execution_count": null,
      "outputs": [
        {
          "output_type": "stream",
          "name": "stdout",
          "text": [
            "[50, 40, 30, 20, 10]\n"
          ]
        }
      ]
    },
    {
      "cell_type": "code",
      "source": [
        "# Practical 11: Write a code to create a tuple with the elements 100, 200, 300 and print it\n",
        "\n",
        "my_tuple = (100, 200, 300)\n",
        "print(my_tuple)\n"
      ],
      "metadata": {
        "colab": {
          "base_uri": "https://localhost:8080/"
        },
        "id": "6N514PEDINlC",
        "outputId": "ea199f31-c75e-4b03-b5a2-d274c9d16a29"
      },
      "execution_count": 1,
      "outputs": [
        {
          "output_type": "stream",
          "name": "stdout",
          "text": [
            "(100, 200, 300)\n"
          ]
        }
      ]
    },
    {
      "cell_type": "code",
      "source": [
        "# Practical 12: Write a code to access the second-to-last element of the tuple ('red', 'green', 'blue', 'yellow')\n",
        "\n",
        "colors = ('red', 'green', 'blue', 'yellow')\n",
        "print(colors[-2])\n"
      ],
      "metadata": {
        "colab": {
          "base_uri": "https://localhost:8080/"
        },
        "id": "UP6xAN48IR3Q",
        "outputId": "806912e7-2f6a-412f-f0ce-5a22baeb3b62"
      },
      "execution_count": 2,
      "outputs": [
        {
          "output_type": "stream",
          "name": "stdout",
          "text": [
            "blue\n"
          ]
        }
      ]
    },
    {
      "cell_type": "code",
      "source": [
        "# Practical 13: Write a code to find the minimum number in the tuple (10, 20, 5, 15)\n",
        "\n",
        "nums = (10, 20, 5, 15)\n",
        "print(min(nums))\n"
      ],
      "metadata": {
        "colab": {
          "base_uri": "https://localhost:8080/"
        },
        "id": "NDADAevOIXmv",
        "outputId": "6951a125-9258-4eef-83fa-6074314a85f9"
      },
      "execution_count": 3,
      "outputs": [
        {
          "output_type": "stream",
          "name": "stdout",
          "text": [
            "5\n"
          ]
        }
      ]
    },
    {
      "cell_type": "code",
      "source": [
        "# Practical 14: Write a code to find the index of the element \"cat\" in the tuple ('dog', 'cat', 'rabbit')\n",
        "\n",
        "animals = ('dog', 'cat', 'rabbit')\n",
        "print(animals.index(\"cat\"))\n"
      ],
      "metadata": {
        "colab": {
          "base_uri": "https://localhost:8080/"
        },
        "id": "jqiF35T4Ia-9",
        "outputId": "6fd904a2-1090-418f-a77f-0582765a6992"
      },
      "execution_count": 4,
      "outputs": [
        {
          "output_type": "stream",
          "name": "stdout",
          "text": [
            "1\n"
          ]
        }
      ]
    },
    {
      "cell_type": "code",
      "source": [
        "# Practical 15: Write a code to create a tuple containing three different fruits and check if \"kiwi\" is in it\n",
        "\n",
        "fruits = (\"apple\", \"banana\", \"mango\")\n",
        "print(\"kiwi\" in fruits)\n"
      ],
      "metadata": {
        "colab": {
          "base_uri": "https://localhost:8080/"
        },
        "id": "iMA2iL0HI1if",
        "outputId": "bb1031e0-2fd5-4b65-c262-856da2873067"
      },
      "execution_count": 5,
      "outputs": [
        {
          "output_type": "stream",
          "name": "stdout",
          "text": [
            "False\n"
          ]
        }
      ]
    },
    {
      "cell_type": "code",
      "source": [
        "# Practical 16: Write a code to create a set with the elements 'a', 'b', 'c' and print it\n",
        "\n",
        "my_set = {'a', 'b', 'c'}\n",
        "print(my_set)\n"
      ],
      "metadata": {
        "colab": {
          "base_uri": "https://localhost:8080/"
        },
        "id": "SHOcsvDrI7Mc",
        "outputId": "6c7c07bd-11d8-4887-fc07-d155bc748667"
      },
      "execution_count": 6,
      "outputs": [
        {
          "output_type": "stream",
          "name": "stdout",
          "text": [
            "{'a', 'c', 'b'}\n"
          ]
        }
      ]
    },
    {
      "cell_type": "code",
      "source": [
        "# Practical 17: Write a code to clear all elements from the set {1, 2, 3, 4, 5}\n",
        "\n",
        "s = {1, 2, 3, 4, 5}\n",
        "s.clear()\n",
        "print(s)\n"
      ],
      "metadata": {
        "colab": {
          "base_uri": "https://localhost:8080/"
        },
        "id": "1SsjQZ0uJELZ",
        "outputId": "70c70a4d-e9ac-425d-ea52-b08b0add2433"
      },
      "execution_count": 7,
      "outputs": [
        {
          "output_type": "stream",
          "name": "stdout",
          "text": [
            "set()\n"
          ]
        }
      ]
    },
    {
      "cell_type": "code",
      "source": [
        "# Practical 18: Write a code to remove the element 4 from the set {1, 2, 3, 4}\n",
        "\n",
        "s = {1, 2, 3, 4}\n",
        "s.remove(4)\n",
        "print(s)\n"
      ],
      "metadata": {
        "colab": {
          "base_uri": "https://localhost:8080/"
        },
        "id": "wmmPD9K_JJXJ",
        "outputId": "7f54f874-95bf-4add-d93a-443379f8f62e"
      },
      "execution_count": 8,
      "outputs": [
        {
          "output_type": "stream",
          "name": "stdout",
          "text": [
            "{1, 2, 3}\n"
          ]
        }
      ]
    },
    {
      "cell_type": "code",
      "source": [
        "# Practical 19: Write a code to find the union of two sets {1, 2, 3} and {3, 4, 5}\n",
        "\n",
        "a = {1, 2, 3}\n",
        "b = {3, 4, 5}\n",
        "print(a.union(b))\n"
      ],
      "metadata": {
        "colab": {
          "base_uri": "https://localhost:8080/"
        },
        "id": "KKnk9GSKJMQE",
        "outputId": "b61a5816-5700-4f31-bb1b-2c651b6a22d5"
      },
      "execution_count": 9,
      "outputs": [
        {
          "output_type": "stream",
          "name": "stdout",
          "text": [
            "{1, 2, 3, 4, 5}\n"
          ]
        }
      ]
    },
    {
      "cell_type": "code",
      "source": [
        "# Practical 20: Write a code to find the intersection of two sets {1, 2, 3} and {2, 3, 4}\n",
        "\n",
        "x = {1, 2, 3}\n",
        "y = {2, 3, 4}\n",
        "print(x.intersection(y))\n"
      ],
      "metadata": {
        "colab": {
          "base_uri": "https://localhost:8080/"
        },
        "id": "7enW7MvnJVqT",
        "outputId": "41445266-1d84-402a-ce44-cfdd90552035"
      },
      "execution_count": 10,
      "outputs": [
        {
          "output_type": "stream",
          "name": "stdout",
          "text": [
            "{2, 3}\n"
          ]
        }
      ]
    },
    {
      "cell_type": "code",
      "source": [
        "# Practical 21: Write a code to create a dictionary with the keys \"name\", \"age\", and \"city\", and print it\n",
        "\n",
        "person = {\"name\": \"Karan\", \"age\": 21, \"city\": \"Mumbai\"}\n",
        "print(person)\n"
      ],
      "metadata": {
        "colab": {
          "base_uri": "https://localhost:8080/"
        },
        "id": "jULbIGi_JdII",
        "outputId": "7a7df9a0-8df5-44c8-c3b2-4dbed7d654e2"
      },
      "execution_count": 11,
      "outputs": [
        {
          "output_type": "stream",
          "name": "stdout",
          "text": [
            "{'name': 'Karan', 'age': 21, 'city': 'Mumbai'}\n"
          ]
        }
      ]
    },
    {
      "cell_type": "code",
      "source": [
        "# Practical 22: Write a code to add a new key-value pair \"country\": \"USA\" to the dictionary {'name': 'John', 'age': 25}\n",
        "\n",
        "data = {'name': 'John', 'age': 25}\n",
        "data[\"country\"] = \"USA\"\n",
        "print(data)\n"
      ],
      "metadata": {
        "colab": {
          "base_uri": "https://localhost:8080/"
        },
        "id": "s1Vb5jusJh_T",
        "outputId": "3d65f001-e208-48f6-d264-addbabb6900f"
      },
      "execution_count": 12,
      "outputs": [
        {
          "output_type": "stream",
          "name": "stdout",
          "text": [
            "{'name': 'John', 'age': 25, 'country': 'USA'}\n"
          ]
        }
      ]
    },
    {
      "cell_type": "code",
      "source": [
        "# Practical 23: Write a code to access the value associated with the key \"name\" in the dictionary {'name': 'Alice', 'age': 30}\n",
        "\n",
        "person = {'name': 'Alice', 'age': 30}\n",
        "print(person[\"name\"])\n"
      ],
      "metadata": {
        "colab": {
          "base_uri": "https://localhost:8080/"
        },
        "id": "-ZA_fnhJJo_X",
        "outputId": "fd8c8e8a-ae9d-4d69-bf77-38cb5ac41b69"
      },
      "execution_count": 13,
      "outputs": [
        {
          "output_type": "stream",
          "name": "stdout",
          "text": [
            "Alice\n"
          ]
        }
      ]
    },
    {
      "cell_type": "code",
      "source": [
        "# Practical 24: Write a code to remove the key \"age\" from the dictionary {'name': 'Bob', 'age': 22, 'city': 'New York'}\n",
        "\n",
        "user = {'name': 'Bob', 'age': 22, 'city': 'New York'}\n",
        "user.pop(\"age\")\n",
        "print(user)\n"
      ],
      "metadata": {
        "colab": {
          "base_uri": "https://localhost:8080/"
        },
        "id": "SmuCKEg9JwW6",
        "outputId": "03984d84-8abe-4e66-ac51-17dc2bca48a3"
      },
      "execution_count": 14,
      "outputs": [
        {
          "output_type": "stream",
          "name": "stdout",
          "text": [
            "{'name': 'Bob', 'city': 'New York'}\n"
          ]
        }
      ]
    },
    {
      "cell_type": "code",
      "source": [
        "# Practical 25: Write a code to check if the key \"city\" exists in the dictionary {'name': 'Alice', 'city': 'Paris'}\n",
        "\n",
        "info = {'name': 'Alice', 'city': 'Paris'}\n",
        "print(\"city\" in info)\n"
      ],
      "metadata": {
        "colab": {
          "base_uri": "https://localhost:8080/"
        },
        "id": "dO0GW_wWJ2fm",
        "outputId": "81bd5521-7498-4ebc-b67e-fcee1d5733bd"
      },
      "execution_count": 15,
      "outputs": [
        {
          "output_type": "stream",
          "name": "stdout",
          "text": [
            "True\n"
          ]
        }
      ]
    },
    {
      "cell_type": "code",
      "source": [
        "# Practical 26: Write a code to create a list, a tuple, and a dictionary, and print them all\n",
        "\n",
        "my_list = [1, 2, 3]\n",
        "my_tuple = (4, 5, 6)\n",
        "my_dict = {\"a\": 1, \"b\": 2}\n",
        "\n",
        "print(my_list)\n",
        "print(my_tuple)\n",
        "print(my_dict)\n"
      ],
      "metadata": {
        "colab": {
          "base_uri": "https://localhost:8080/"
        },
        "id": "1mvMkIaSJ7g4",
        "outputId": "29edcbb6-22b9-466d-a293-331372fcc448"
      },
      "execution_count": 16,
      "outputs": [
        {
          "output_type": "stream",
          "name": "stdout",
          "text": [
            "[1, 2, 3]\n",
            "(4, 5, 6)\n",
            "{'a': 1, 'b': 2}\n"
          ]
        }
      ]
    },
    {
      "cell_type": "code",
      "source": [
        "# Practical 27: Write a code to create a list of 5 random numbers between 1 and 100, sort it in ascending order, and print the result\n",
        "\n",
        "import random\n",
        "random_numbers = random.sample(range(1, 101), 5)\n",
        "random_numbers.sort()\n",
        "print(random_numbers)\n"
      ],
      "metadata": {
        "colab": {
          "base_uri": "https://localhost:8080/"
        },
        "id": "PuSja6rbJ9q1",
        "outputId": "328b87c3-e991-4b0c-9b58-0cd263707431"
      },
      "execution_count": 17,
      "outputs": [
        {
          "output_type": "stream",
          "name": "stdout",
          "text": [
            "[52, 53, 63, 77, 87]\n"
          ]
        }
      ]
    },
    {
      "cell_type": "code",
      "source": [
        "# Practical 28: Write a code to create a list with strings and print the element at the third index\n",
        "\n",
        "words = [\"apple\", \"banana\", \"cherry\", \"date\", \"fig\"]\n",
        "print(words[3])\n"
      ],
      "metadata": {
        "colab": {
          "base_uri": "https://localhost:8080/"
        },
        "id": "bgAegqQ1KDog",
        "outputId": "4a111ce4-b9fc-44d4-e19e-c11959f2fbd0"
      },
      "execution_count": 18,
      "outputs": [
        {
          "output_type": "stream",
          "name": "stdout",
          "text": [
            "date\n"
          ]
        }
      ]
    },
    {
      "cell_type": "code",
      "source": [
        "# Practical 29: Write a code to combine two dictionaries into one and print the result\n",
        "\n",
        "dict1 = {\"a\": 1, \"b\": 2}\n",
        "dict2 = {\"c\": 3, \"d\": 4}\n",
        "combined = {**dict1, **dict2}\n",
        "print(combined)\n"
      ],
      "metadata": {
        "colab": {
          "base_uri": "https://localhost:8080/"
        },
        "id": "z4m4Wj95KHKK",
        "outputId": "c94523e6-69f5-465f-af34-085c14521531"
      },
      "execution_count": 19,
      "outputs": [
        {
          "output_type": "stream",
          "name": "stdout",
          "text": [
            "{'a': 1, 'b': 2, 'c': 3, 'd': 4}\n"
          ]
        }
      ]
    },
    {
      "cell_type": "code",
      "source": [
        "# Practical 30: Write a code to convert a list of strings into a set\n",
        "\n",
        "names = [\"John\", \"Alice\", \"Bob\", \"Alice\"]\n",
        "unique_names = set(names)\n",
        "print(unique_names)\n"
      ],
      "metadata": {
        "colab": {
          "base_uri": "https://localhost:8080/"
        },
        "id": "2p68Lm3lKLT7",
        "outputId": "2c9c54dc-777f-4009-acd2-5139726d8241"
      },
      "execution_count": 20,
      "outputs": [
        {
          "output_type": "stream",
          "name": "stdout",
          "text": [
            "{'John', 'Alice', 'Bob'}\n"
          ]
        }
      ]
    }
  ]
}